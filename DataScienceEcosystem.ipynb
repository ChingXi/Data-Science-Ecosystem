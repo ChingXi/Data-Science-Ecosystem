{
  "nbformat": 4,
  "nbformat_minor": 0,
  "metadata": {
    "colab": {
      "provenance": [],
      "toc_visible": true
    },
    "kernelspec": {
      "name": "python3",
      "display_name": "Python 3"
    },
    "language_info": {
      "name": "python"
    }
  },
  "cells": [
    {
      "cell_type": "markdown",
      "source": [
        "# Data Science Tools and ecosystem"
      ],
      "metadata": {
        "id": "r5soO3SPBvi-"
      }
    },
    {
      "cell_type": "markdown",
      "source": [
        "## In this notebook, Data Science Tools and Ecosystem are summarized."
      ],
      "metadata": {
        "id": "jh0RqnMpEPlS"
      }
    },
    {
      "cell_type": "markdown",
      "source": [
        "**Objectives:**\n",
        "* List popular languages for Data Science\n",
        "* List commonly used libraries for Data Science\n",
        "* Examples of evaluating arithmetic expressions in Python\n"
      ],
      "metadata": {
        "id": "8h90REH4ESwK"
      }
    },
    {
      "cell_type": "markdown",
      "source": [
        "## Some of the popular languages that Data Scientists use are:\n",
        "1. Python\n",
        "2. R\n",
        "3. SQL\n",
        "4. Java\n",
        "5. Julia\n",
        "6. Scala\n",
        "7. JavaScript\n",
        "8. Swift"
      ],
      "metadata": {
        "id": "SvXvJfmIB9Zl"
      }
    },
    {
      "cell_type": "markdown",
      "source": [
        "## Some of the commonly used libraries used by Data Scientists include:\n",
        "1. TensorFlow\n",
        "2. NumPy\n",
        "3. SciPy\n",
        "4. Pandas\n",
        "5. Matplotlib\n",
        "\n",
        "\n",
        "\n",
        "\n"
      ],
      "metadata": {
        "id": "DMIQ-v2oCVz_"
      }
    },
    {
      "cell_type": "markdown",
      "source": [
        "|Data Science Tools|\n",
        "|---|\n",
        "|TensorFlow|\n",
        "|Hadoop|\n",
        "|Spark|"
      ],
      "metadata": {
        "id": "36bMV11MCsD-"
      }
    },
    {
      "cell_type": "markdown",
      "source": [
        "### Below are a few examples of evaluating arithmetic expressions in Python\n"
      ],
      "metadata": {
        "id": "23fSac5ZDCCP"
      }
    },
    {
      "cell_type": "code",
      "source": [
        "x = 10\n",
        "y = 20\n",
        "z = x + y\n",
        "print(z)"
      ],
      "metadata": {
        "colab": {
          "base_uri": "https://localhost:8080/"
        },
        "id": "4NJr2F7XDb1o",
        "outputId": "c3691f50-2ff8-4ac9-faf1-5f7c62e0e4e0"
      },
      "execution_count": null,
      "outputs": [
        {
          "output_type": "stream",
          "name": "stdout",
          "text": [
            "30\n"
          ]
        }
      ]
    },
    {
      "cell_type": "markdown",
      "source": [],
      "metadata": {
        "id": "O86hO8vmDCze"
      }
    },
    {
      "cell_type": "code",
      "source": [
        "# This a simple arithmetic expression to mutiply then add integers\n",
        "n = (3*4)+5\n",
        "print(n)"
      ],
      "metadata": {
        "colab": {
          "base_uri": "https://localhost:8080/"
        },
        "id": "IabWlQPlDi25",
        "outputId": "cc7c9472-146a-4dac-bec9-9b159c8ccea6"
      },
      "execution_count": null,
      "outputs": [
        {
          "output_type": "stream",
          "name": "stdout",
          "text": [
            "17\n"
          ]
        }
      ]
    },
    {
      "cell_type": "code",
      "source": [
        "# This will convert 200 minutes to hours by diving by 60\n",
        "def min_to_hours(x):\n",
        "  return x/60\n",
        "\n",
        "min_to_hours(200)"
      ],
      "metadata": {
        "colab": {
          "base_uri": "https://localhost:8080/"
        },
        "id": "n4XegzjSDxEh",
        "outputId": "b7dac311-73e7-4c21-cb49-6b9ac267f420"
      },
      "execution_count": null,
      "outputs": [
        {
          "output_type": "execute_result",
          "data": {
            "text/plain": [
              "3.3333333333333335"
            ]
          },
          "metadata": {},
          "execution_count": 36
        }
      ]
    },
    {
      "cell_type": "markdown",
      "source": [
        "## Author\n",
        "Ching Xi"
      ],
      "metadata": {
        "id": "Hm9giJnQFB9b"
      }
    }
  ]
}